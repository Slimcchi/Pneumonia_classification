{
 "cells": [
  {
   "cell_type": "code",
   "execution_count": null,
   "metadata": {},
   "outputs": [],
   "source": [
    "def plot_img_hist(item_dir, num_img=6):\n",
    "    all_item_dirs = os.listdir(item_dir)\n",
    "    item_files = [os.path.join(item_dir, file) for file in all_item_dirs][:num_img]\n",
    "  \n",
    "  #plt.figure(figsize=(10, 10))\n",
    "    for idx, img_path in enumerate(item_files):\n",
    "        fig1 = plt.figure(idx,figsize=(10, 10))\n",
    "        fig1.add_subplot(2, 2, 1)\n",
    "        img = mpimg.imread(img_path, )\n",
    "        # img = valeur du pixel pour chaque pixel de l'image, de dimension shape\n",
    "        plt.imshow(img, cmap='gray')\n",
    "        fig1.add_subplot(2, 2, 2)\n",
    "        plt.hist(img.ravel(),bins=256, fc='k', ec='k')\n",
    "        # img.ravel met tout sous une shape de 1 (liste unique)\n",
    "  \n",
    "    plt.tight_layout()"
   ]
  },
  {
   "cell_type": "code",
   "execution_count": null,
   "metadata": {},
   "outputs": [],
   "source": [
    "plot_img_hist(train_pnm_pth,1)"
   ]
  },
  {
   "cell_type": "code",
   "execution_count": null,
   "metadata": {},
   "outputs": [],
   "source": []
  },
  {
   "cell_type": "code",
   "execution_count": null,
   "metadata": {},
   "outputs": [],
   "source": []
  },
  {
   "cell_type": "code",
   "execution_count": null,
   "metadata": {},
   "outputs": [],
   "source": [
    "# Directory actuel\n",
    "os.path.abspath(os.getcwd())"
   ]
  },
  {
   "cell_type": "code",
   "execution_count": null,
   "metadata": {},
   "outputs": [],
   "source": [
    "list_dir = [\"resize_pneumo/\", 'resize_pneumo/chest_xray/', 'resize_pneumo/chest_xray/train',\n",
    "            'resize_pneumo/chest_xray/train/NORMAL', 'resize_pneumo/chest_xray/train/PNEUMONIA',\n",
    "            'resize_pneumo/chest_xray/test', 'resize_pneumo/chest_xray/test/NORMAL',\n",
    "            'resize_pneumo/chest_xray/test/PNEUMONIA','resize_pneumo/chest_xray/val',\n",
    "            'resize_pneumo/chest_xray/val/NORMAL','resize_pneumo/chest_xray/val/PNEUMONIA']\n",
    "\n",
    "# On crée les directory si ils n'existent pas\n",
    "for i in list_dir :\n",
    "    if not (os.path.exists(i)):\n",
    "        print(\"dir \"+i+ \" crée\")\n",
    "        os.mkdir(i)\n",
    "\n",
    "dirname_work = 'resize_pneumo'\n",
    "dir_chest_xray = os.path.join('resize_pneumo', 'chest_xray')\n",
    "\n",
    "train_path_work = os.path.join(dir_chest_xray, 'train')\n",
    "train_nrml_pth_work = os.path.join(train_path_work, 'NORMAL')\n",
    "train_pnm_pth_work = os.path.join(train_path_work, 'PNEUMONIA')\n",
    "\n",
    "val_path_work = os.path.join(dir_chest_xray, 'val')\n",
    "val_nrml_pth_work = os.path.join(val_path_work, 'NORMAL')\n",
    "val_pnm_pth_work = os.path.join(val_path_work, 'PNEUMONIA')\n",
    "\n",
    "test_path_work = os.path.join(dir_chest_xray, 'test')\n",
    "test_nrml_pth_work = os.path.join(test_path_work, 'NORMAL')\n",
    "test_pnm_pth_work = os.path.join(test_path_work, 'PNEUMONIA')"
   ]
  },
  {
   "cell_type": "code",
   "execution_count": null,
   "metadata": {},
   "outputs": [],
   "source": [
    "def image_resizing(path_from, path_to, height=500, width=500):\n",
    "    \"\"\" Chaque image doit avoir la même dimension,\n",
    "    shape pour être traité par un même modèle\"\"\"\n",
    "    size = height, width\n",
    "    i=1\n",
    "    files = os.listdir(path_from)\n",
    "    for file in files: \n",
    "        try:\n",
    "            file_dir = os.path.join(path_from, file)\n",
    "            file_dir_save = os.path.join(path_to, file)\n",
    "            img = Image.open(file_dir)\n",
    "            img = img.resize(size, Image.ANTIALIAS)\n",
    "            img = img.convert(\"RGB\")\n",
    "            img.save(file_dir_save) \n",
    "            i=i+1\n",
    "        except:\n",
    "            continue"
   ]
  },
  {
   "cell_type": "code",
   "execution_count": null,
   "metadata": {},
   "outputs": [],
   "source": [
    "#image_resizing(train_nrml_pth, train_nrml_pth_work, 300, 300)\n",
    "#image_resizing(train_pnm_pth, train_pnm_pth_work, 300, 300)"
   ]
  },
  {
   "cell_type": "code",
   "execution_count": null,
   "metadata": {},
   "outputs": [],
   "source": [
    "#image_resizing(test_nrml_pth, test_nrml_pth_work, 300, 300)\n",
    "#image_resizing(test_pnm_pth, test_pnm_pth_work, 300, 300)"
   ]
  },
  {
   "cell_type": "code",
   "execution_count": null,
   "metadata": {},
   "outputs": [],
   "source": [
    "#image_resizing(val_nrml_pth, val_nrml_pth_work, 300, 300)\n",
    "#image_resizing(val_pnm_pth, val_pnm_pth_work, 300, 300)"
   ]
  },
  {
   "cell_type": "code",
   "execution_count": null,
   "metadata": {},
   "outputs": [],
   "source": []
  },
  {
   "cell_type": "code",
   "execution_count": null,
   "metadata": {},
   "outputs": [],
   "source": [
    "# focal loss \n",
    "def focal_loss(alpha=0.25,gamma=2.0):\n",
    "    def focal_crossentropy(y_true, y_pred):\n",
    "        bce = K.binary_crossentropy(y_true, y_pred)\n",
    "        \n",
    "        y_pred = K.clip(y_pred, K.epsilon(), 1.- K.epsilon())\n",
    "        p_t = (y_true*y_pred) + ((1-y_true)*(1-y_pred))\n",
    "        \n",
    "        alpha_factor = 1\n",
    "        modulating_factor = 1\n",
    "\n",
    "        alpha_factor = y_true*alpha + ((1-alpha)*(1-y_true))\n",
    "        modulating_factor = K.pow((1-p_t), gamma)\n",
    "\n",
    "        # compute the final loss and return\n",
    "        return K.mean(alpha_factor*modulating_factor*bce, axis=-1)\n",
    "    return focal_crossentropy"
   ]
  },
  {
   "cell_type": "code",
   "execution_count": null,
   "metadata": {},
   "outputs": [],
   "source": [
    "#model.compile(loss=focal_loss(), optimizer='adam', metrics=['accuracy'])"
   ]
  },
  {
   "cell_type": "code",
   "execution_count": null,
   "metadata": {},
   "outputs": [],
   "source": []
  },
  {
   "cell_type": "code",
   "execution_count": null,
   "metadata": {},
   "outputs": [],
   "source": [
    "labels = ['PNEUMONIA', 'NORMAL']\n",
    "plt.figure(figsize=(10,10))\n",
    "for i in range(25):\n",
    "    plt.subplot(5,5,i+1)\n",
    "    plt.xticks([])\n",
    "    plt.yticks([])\n",
    "    plt.grid(False)\n",
    "    plt.imshow(test_data.reshape(-1, img_size_h, img_size_w)[i], cmap='gray')\n",
    "    if(binary_predictions[i]==test_labels[i]):\n",
    "        plt.xlabel(labels[binary_predictions[i]], color='blue')\n",
    "    else:\n",
    "        plt.xlabel(labels[binary_predictions[i]], color='red')\n",
    "plt.show()"
   ]
  },
  {
   "cell_type": "code",
   "execution_count": null,
   "metadata": {},
   "outputs": [],
   "source": []
  },
  {
   "cell_type": "code",
   "execution_count": null,
   "metadata": {},
   "outputs": [],
   "source": [
    "def predict_illness(image_path):\n",
    "    imge = plt.imread(image_path)\n",
    "    plt.figure()\n",
    "\n",
    "    img = image.load_img(image_path, target_size=(img_size_h, img_size_w), grayscale = False)\n",
    "    x = image.img_to_array(img) \n",
    "    x = np.expand_dims(x, axis=0)\n",
    "    #images = x\n",
    "    images = np.vstack([x])\n",
    "\n",
    "    classes = model.predict_classes(images, batch_size=10)\n",
    "    if classes[0][0] == 0:\n",
    "        textstr = \"Prediction: Healthy\"\n",
    "    else:\n",
    "        textstr = \"Prediction: Pneumonia\"\n",
    "\n",
    "    if ('chest_xray/chest_xray/test/NORMAL' in image_path):\n",
    "        texttruth = \"Truth: Healthy\"\n",
    "    else :\n",
    "        texttruth = \"Truth: Pneumonia\"\n",
    "        \n",
    "    plt.gcf().text(0.9, 0.4, textstr, fontsize=20)\n",
    "    plt.gcf().text(0.9, 0.6, texttruth, fontsize=20)\n",
    "    plt.imshow(img, cmap='gray')"
   ]
  },
  {
   "cell_type": "code",
   "execution_count": null,
   "metadata": {},
   "outputs": [],
   "source": []
  },
  {
   "cell_type": "code",
   "execution_count": null,
   "metadata": {},
   "outputs": [],
   "source": [
    "img_p = image.load_img(img_test_nrml, target_size=(img_size_h, img_size_w), grayscale = True)\n",
    "img_arr_p = np.array(img_p)\n",
    "img_arr_p = np.expand_dims(img_arr_p, axis=0)\n",
    "img_arr_p = np.expand_dims(img_arr_p, axis=3)\n",
    "images_p = np.vstack([img_arr_p])"
   ]
  },
  {
   "cell_type": "code",
   "execution_count": null,
   "metadata": {},
   "outputs": [],
   "source": [
    "from keras.models import Model\n",
    "layer_outputs = [layer.output for layer in model.layers[:len(model.layers)]]"
   ]
  },
  {
   "cell_type": "code",
   "execution_count": null,
   "metadata": {},
   "outputs": [],
   "source": [
    "activation_model = Model(inputs=model.input, outputs=layer_outputs)"
   ]
  },
  {
   "cell_type": "code",
   "execution_count": null,
   "metadata": {},
   "outputs": [],
   "source": [
    "activations = activation_model.predict(images_p)\n",
    "\n",
    "first_layer_activation = activations[0]\n",
    "plt.matshow(first_layer_activation[0, :, :, 4], cmap='viridis', cmap='gray')"
   ]
  },
  {
   "cell_type": "code",
   "execution_count": null,
   "metadata": {},
   "outputs": [],
   "source": [
    "model.layers[:-1]# Droping The Last Dense Layer"
   ]
  },
  {
   "cell_type": "code",
   "execution_count": null,
   "metadata": {},
   "outputs": [],
   "source": [
    "layer_names = []\n",
    "for layer in model.layers[:-1]:\n",
    "    layer_names.append(layer.name) \n",
    "images_per_row = 16\n",
    "zipped_layers = zip(layer_names, activations)\n",
    "for layer_name, layer_activation in zipped_layers: #this loop     \n",
    "    if layer_name.startswith('conv'):\n",
    "        n_features = layer_activation.shape[-1]\n",
    "        size = layer_activation.shape[1]\n",
    "        n_cols = n_features // images_per_row\n",
    "        display_grid = np.zeros((size * n_cols, images_per_row * size))\n",
    "        for col in range(n_cols):\n",
    "            for row in range(images_per_row):\n",
    "                channel_image = layer_activation[0,:, :, col * images_per_row + row]\n",
    "                channel_image -= channel_image.mean()\n",
    "                channel_image /= channel_image.std()\n",
    "                channel_image *= 64\n",
    "                channel_image += 128\n",
    "                channel_image = np.clip(channel_image, 0, 255).astype('uint8')\n",
    "                display_grid[col * size : (col + 1) * size,\n",
    "                             row * size : (row + 1) * size] = channel_image\n",
    "        scale = 1. / size\n",
    "        plt.figure(figsize=(scale * display_grid.shape[1],\n",
    "                            scale * display_grid.shape[0]))\n",
    "        plt.title(layer_name)\n",
    "        plt.grid(False)\n",
    "        plt.imshow(display_grid, aspect='auto', cmap='viridis')"
   ]
  },
  {
   "cell_type": "code",
   "execution_count": null,
   "metadata": {},
   "outputs": [],
   "source": [
    "layer_names = []\n",
    "for layer in model.layers[:-1]:\n",
    "    layer_names.append(layer.name) \n",
    "images_per_row = 16\n",
    "for layer_name, layer_activation in zip(layer_names, activations):\n",
    "    if layer_name.startswith('max'):\n",
    "        n_features = layer_activation.shape[-1]\n",
    "        size = layer_activation.shape[1]\n",
    "        n_cols = n_features // images_per_row\n",
    "        display_grid = np.zeros((size * n_cols, images_per_row * size))\n",
    "        for col in range(n_cols):\n",
    "            for row in range(images_per_row):\n",
    "                channel_image = layer_activation[0,:, :, col * images_per_row + row]\n",
    "                channel_image -= channel_image.mean()\n",
    "                channel_image /= channel_image.std()\n",
    "                channel_image *= 64\n",
    "                channel_image += 128\n",
    "                channel_image = np.clip(channel_image, 0, 255).astype('uint8')\n",
    "                display_grid[col * size : (col + 1) * size,\n",
    "                             row * size : (row + 1) * size] = channel_image\n",
    "        scale = 1. / size\n",
    "        plt.figure(figsize=(scale * display_grid.shape[1],\n",
    "                            scale * display_grid.shape[0]))\n",
    "        plt.title(layer_name)\n",
    "        plt.grid(False)\n",
    "        plt.imshow(display_grid, aspect='auto', cmap='viridis')"
   ]
  }
 ],
 "metadata": {
  "kernelspec": {
   "display_name": "Python 3",
   "language": "python",
   "name": "python3"
  },
  "language_info": {
   "codemirror_mode": {
    "name": "ipython",
    "version": 3
   },
   "file_extension": ".py",
   "mimetype": "text/x-python",
   "name": "python",
   "nbconvert_exporter": "python",
   "pygments_lexer": "ipython3",
   "version": "3.5.2"
  }
 },
 "nbformat": 4,
 "nbformat_minor": 2
}
